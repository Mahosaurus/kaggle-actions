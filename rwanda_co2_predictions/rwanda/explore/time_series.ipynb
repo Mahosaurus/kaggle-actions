{
 "cells": [
  {
   "cell_type": "code",
   "execution_count": null,
   "metadata": {},
   "outputs": [],
   "source": [
    "%load_ext autoreload\n",
    "%autoreload 2"
   ]
  },
  {
   "cell_type": "code",
   "execution_count": null,
   "metadata": {},
   "outputs": [],
   "source": [
    "import matplotlib.pyplot as plt\n",
    "import pandas as pd\n",
    "import seaborn as sns\n",
    "\n",
    "from rwanda.src.utils import get_repo_root"
   ]
  },
  {
   "cell_type": "code",
   "execution_count": null,
   "metadata": {},
   "outputs": [],
   "source": [
    "# Read training data\n",
    "train = pd.read_csv(f'{get_repo_root()}/data/train.csv')"
   ]
  },
  {
   "cell_type": "code",
   "execution_count": null,
   "metadata": {},
   "outputs": [],
   "source": [
    "# From data frame train, extract from ID_LAT_LON_YEAR_WEEK column ID_LAT_LON as a new column\n",
    "train['ID_LAT_LON'] = [\"_\".join(x.split('_')[0:3]) for x in train['ID_LAT_LON_YEAR_WEEK']]\n",
    "train[\"year_week\"] = [\"_\".join(x.split('_')[3:5]) for x in train['ID_LAT_LON_YEAR_WEEK']]"
   ]
  },
  {
   "cell_type": "code",
   "execution_count": null,
   "metadata": {},
   "outputs": [],
   "source": [
    "# For IDs [\"ID_-0.510_29.290\", \"ID_-0.528_29.472\"] plot the development of emission (timeseries)\n",
    "ID = [\"ID_-0.528_29.472\"]\n",
    "# Plot the timeseries grouped by ID\n",
    "train[train[\"ID_LAT_LON\"].isin(ID)].groupby([\"ID_LAT_LON\", \"year_week\"])[\"emission\"].sum().unstack(level=0).plot(figsize=(15, 5))"
   ]
  },
  {
   "cell_type": "code",
   "execution_count": null,
   "metadata": {},
   "outputs": [],
   "source": [
    "# Develop simple time series model (arma) for Rwanda\n",
    "# Imports\n",
    "import pandas as pd\n",
    "import numpy as np\n",
    "import matplotlib.pyplot as plt\n",
    "from statsmodels.tsa.arima.model import ARIMA \n",
    "\n",
    "# Sort data train by ID_LAT_LON and year_week\n",
    "train = train.sort_values(by=[\"ID_LAT_LON\", \"year_week\"])\n",
    "# Load data\n",
    "ID = \"ID_-0.956_30.744\"\n",
    "tmp = train[train[\"ID_LAT_LON\"] == ID]\n",
    "tmp = tmp[[\"ID_LAT_LON\", \"year_week\", \"emission\"]]\n",
    "\n",
    "# Artifical cut for training test\n",
    "# a = tmp\n",
    "# tmp = tmp[0:130]\n",
    "# print(tmp)\n",
    "# Estimate model\n",
    "model = ARIMA(tmp[\"emission\"], order=(1,2,2))\n",
    "model_fit = model.fit()\n",
    "\n",
    "# Make prediction\n",
    "yhat = model_fit.predict(1, 49)\n",
    "\n",
    "# Combine series tmp[\"emission\"] and yhat, ignore index\n",
    "yhat = pd.concat([tmp[\"emission\"], yhat], ignore_index=True)\n",
    "# Covert pd.Series to pd.DataFrame\n",
    "yhat = pd.DataFrame(yhat)\n",
    "# Rename predicted_mean to emission\n",
    "yhat = yhat.rename(columns={0: \"emission\"})\n",
    "# Plot yhat\n",
    "plt.plot(yhat[\"emission\"], color=\"green\")\n",
    "# Add a[\"emission\"] to plot\n",
    "#plt.plot(a[\"emission\"], color=\"blue\")\n",
    "# Add prediction line at -49:\n",
    "plt.axvline(x=len(yhat)-49, color=\"red\")\n",
    "# x-axis label year_week\n",
    "plt.xlabel(\"year_week\")\n"
   ]
  },
  {
   "cell_type": "code",
   "execution_count": null,
   "metadata": {},
   "outputs": [],
   "source": [
    "# Plot"
   ]
  },
  {
   "cell_type": "code",
   "execution_count": null,
   "metadata": {},
   "outputs": [],
   "source": [
    "yhat"
   ]
  },
  {
   "cell_type": "code",
   "execution_count": null,
   "metadata": {},
   "outputs": [],
   "source": []
  },
  {
   "cell_type": "code",
   "execution_count": null,
   "metadata": {},
   "outputs": [],
   "source": []
  }
 ],
 "metadata": {
  "kernelspec": {
   "display_name": "rwanda-qMl64OKB-py3.9",
   "language": "python",
   "name": "python3"
  },
  "language_info": {
   "codemirror_mode": {
    "name": "ipython",
    "version": 3
   },
   "file_extension": ".py",
   "mimetype": "text/x-python",
   "name": "python",
   "nbconvert_exporter": "python",
   "pygments_lexer": "ipython3",
   "version": "3.9.17"
  },
  "orig_nbformat": 4
 },
 "nbformat": 4,
 "nbformat_minor": 2
}
