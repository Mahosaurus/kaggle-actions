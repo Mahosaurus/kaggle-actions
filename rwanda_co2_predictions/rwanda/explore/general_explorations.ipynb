{
 "cells": [
  {
   "cell_type": "code",
   "execution_count": null,
   "metadata": {},
   "outputs": [],
   "source": [
    "%load_ext autoreload\n",
    "%autoreload 2"
   ]
  },
  {
   "cell_type": "code",
   "execution_count": null,
   "metadata": {},
   "outputs": [],
   "source": [
    "import matplotlib.pyplot as plt\n",
    "import numpy as np\n",
    "import pandas as pd\n",
    "import seaborn as sns\n",
    "\n",
    "from rwanda.src.utils import get_repo_root"
   ]
  },
  {
   "cell_type": "code",
   "execution_count": null,
   "metadata": {},
   "outputs": [],
   "source": [
    "# Read training data\n",
    "train = pd.read_csv(f'{get_repo_root()}/data/train.csv')\n",
    "# Read test data\n",
    "test = pd.read_csv(f'{get_repo_root()}/data/test.csv')"
   ]
  },
  {
   "cell_type": "code",
   "execution_count": null,
   "metadata": {},
   "outputs": [],
   "source": [
    "# From data frame train, extract from ID_LAT_LON_YEAR_WEEK column ID_LAT_LON as a new column\n",
    "train['ID_LAT_LON'] = [\"_\".join(x.split('_')[0:3]) for x in train['ID_LAT_LON_YEAR_WEEK']]\n",
    "test['ID_LAT_LON'] = [\"_\".join(x.split('_')[0:3]) for x in test['ID_LAT_LON_YEAR_WEEK']]\n",
    "# From data frame train, extract from ID_LAT_LON_YEAR_WEEK column YEAR_WEEK as a new column\n",
    "train[\"year_week\"] = [\"_\".join(x.split('_')[3:5]) for x in train['ID_LAT_LON_YEAR_WEEK']]\n",
    "test[\"year_week\"] = [\"_\".join(x.split('_')[3:5]) for x in test['ID_LAT_LON_YEAR_WEEK']]"
   ]
  },
  {
   "cell_type": "code",
   "execution_count": null,
   "metadata": {},
   "outputs": [],
   "source": [
    "# For train calculate the mean per week and year and plot it\n",
    "data = train.groupby(['year_week']).mean().reset_index()\n",
    "data = data.sort_values(by=['year_week'])\n",
    "plt.plot(data[\"emission\"])\n",
    "# Fewer xticks\n",
    "plt.xticks(np.arange(0, len(data[\"year_week\"]), 10), data[\"year_week\"][::10], rotation=40)\n",
    "plt.xlabel(\"Year-Week\")\n",
    "plt.show()"
   ]
  },
  {
   "cell_type": "code",
   "execution_count": null,
   "metadata": {},
   "outputs": [],
   "source": [
    "data"
   ]
  },
  {
   "cell_type": "code",
   "execution_count": null,
   "metadata": {},
   "outputs": [],
   "source": [
    "# Plot the mean emission per week compared between the years as a bar plot\n",
    "data = train.groupby(['year', 'week_no', 'year_week'])['emission'].mean().reset_index()\n",
    "plt.figure(figsize=(13, 7))\n",
    "sns.barplot(x='week_no', y='emission', hue='year', data=data)\n",
    "# Adjust the x-ticks\n",
    "plt.xticks(np.arange(0, 52, 4), np.arange(0, 52, 4))\n",
    "# Add moving average by year\n",
    "for year in data['year'].unique():\n",
    "    plt.plot(data[data['year'] == year]['week_no'], data[data['year'] == year]['emission'].rolling(4).mean(), label=year)\n",
    "plt.title('Mean emission per week compared between the years')\n",
    "plt.show()"
   ]
  },
  {
   "cell_type": "code",
   "execution_count": null,
   "metadata": {},
   "outputs": [],
   "source": [
    "# Is it like this also for a single case?\n",
    "# Plot the mean emission per week compared between the years as a bar plot\n",
    "data = train[train['ID_LAT_LON'] == 'ID_-1.514_29.686']\n",
    "data.loc[data['ID_LAT_LON_YEAR_WEEK'] == 'ID_-2.079_29.321_2021_09', \"emission\"] = 1100\n",
    "data.loc[data['ID_LAT_LON_YEAR_WEEK'] == 'ID_-2.079_29.321_2021_00', \"emission\"] = 2700\n",
    "data.loc[data['ID_LAT_LON_YEAR_WEEK'] == 'ID_-2.079_29.321_2021_01', \"emission\"] = 2900\n",
    "data.loc[data['ID_LAT_LON_YEAR_WEEK'] == 'ID_-2.079_29.321_2021_02', \"emission\"] = 3000\n",
    "data.loc[data['ID_LAT_LON_YEAR_WEEK'] == 'ID_-2.079_29.321_2021_03', \"emission\"] = 3000\n",
    "data.loc[data['ID_LAT_LON_YEAR_WEEK'] == 'ID_-2.079_29.321_2021_04', \"emission\"] = 3000\n",
    "data.loc[data['ID_LAT_LON_YEAR_WEEK'] == 'ID_-2.079_29.321_2021_05', \"emission\"] = 2900\n",
    "data = data.groupby(['year', 'week_no', 'year_week'])['emission'].mean().reset_index()\n",
    "plt.figure(figsize=(13, 7))\n",
    "sns.barplot(x='week_no', y='emission', hue='year', data=data)\n",
    "# Adjust the x-ticks\n",
    "plt.xticks(np.arange(0, 52, 4), np.arange(0, 52, 4))\n",
    "# Add moving average by year\n",
    "for year in data['year'].unique():\n",
    "    plt.plot(data[data['year'] == year]['week_no'], data[data['year'] == year]['emission'].rolling(4).mean(), label=year)\n",
    "plt.title('Mean emission per week compared between the years')\n",
    "plt.show()"
   ]
  },
  {
   "cell_type": "code",
   "execution_count": null,
   "metadata": {},
   "outputs": [],
   "source": [
    "data"
   ]
  }
 ],
 "metadata": {
  "kernelspec": {
   "display_name": "rwanda-qMl64OKB-py3.9",
   "language": "python",
   "name": "python3"
  },
  "language_info": {
   "codemirror_mode": {
    "name": "ipython",
    "version": 3
   },
   "file_extension": ".py",
   "mimetype": "text/x-python",
   "name": "python",
   "nbconvert_exporter": "python",
   "pygments_lexer": "ipython3",
   "version": "3.9.17"
  },
  "orig_nbformat": 4
 },
 "nbformat": 4,
 "nbformat_minor": 2
}
