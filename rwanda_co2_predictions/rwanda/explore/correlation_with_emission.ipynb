{
 "cells": [
  {
   "cell_type": "code",
   "execution_count": null,
   "metadata": {},
   "outputs": [],
   "source": [
    "%load_ext autoreload\n",
    "%autoreload 2"
   ]
  },
  {
   "cell_type": "code",
   "execution_count": null,
   "metadata": {},
   "outputs": [],
   "source": [
    "import matplotlib.pyplot as plt\n",
    "import pandas as pd\n",
    "import seaborn as sns\n",
    "\n",
    "from rwanda.src.utils import get_repo_root"
   ]
  },
  {
   "cell_type": "code",
   "execution_count": null,
   "metadata": {},
   "outputs": [],
   "source": [
    "# Read training data\n",
    "train = pd.read_csv(f'{get_repo_root()}/data/train.csv')"
   ]
  },
  {
   "cell_type": "code",
   "execution_count": null,
   "metadata": {},
   "outputs": [],
   "source": [
    "# From data frame train, extract from ID_LAT_LON_YEAR_WEEK column ID_LAT_LON as a new column\n",
    "train['ID_LAT_LON'] = [\"_\".join(x.split('_')[0:3]) for x in train['ID_LAT_LON_YEAR_WEEK']]\n"
   ]
  },
  {
   "cell_type": "code",
   "execution_count": null,
   "metadata": {},
   "outputs": [],
   "source": [
    "# Group by ID_LAT_LON_YEAR_WEEK and count the number of rows by grouping variable\n",
    "df = train.groupby(['ID_LAT_LON']).size().reset_index(name='counts')"
   ]
  },
  {
   "cell_type": "markdown",
   "metadata": {},
   "source": [
    " Correlations with Emission"
   ]
  },
  {
   "cell_type": "code",
   "execution_count": null,
   "metadata": {},
   "outputs": [],
   "source": [
    "# Correlate the emission variable with variables starting with Carbon\n",
    "# Select the columns starting with Carbon\n",
    "tmp = train[train.columns[train.columns.str.contains('Carbon')]]\n",
    "# Add the emission column\n",
    "tmp['emission'] = train['emission']\n",
    "corr = tmp.corr()\n",
    "# Plot the correlation matrix\n",
    "sns.heatmap(corr, annot=True, cmap=\"YlGnBu\")\n"
   ]
  },
  {
   "cell_type": "code",
   "execution_count": null,
   "metadata": {},
   "outputs": [],
   "source": [
    "# Correlate the emission variable with variables starting with Carbon\n",
    "# Select the columns starting with Carbon\n",
    "tmp = train[train.columns[train.columns.str.contains('Sulphur')]]\n",
    "# Add the emission column\n",
    "tmp['emission'] = train['emission']\n",
    "corr = tmp.corr()\n",
    "# Plot the correlation matrix\n",
    "sns.heatmap(corr, annot=True, cmap=\"YlGnBu\")\n"
   ]
  },
  {
   "cell_type": "code",
   "execution_count": null,
   "metadata": {},
   "outputs": [],
   "source": [
    "# Correlate the emission variable with variables starting with Carbon\n",
    "# Select the columns starting with Carbon\n",
    "tmp = train[train.columns[train.columns.str.contains('Nitrogen')]]\n",
    "# Add the emission column\n",
    "tmp['emission'] = train['emission']\n",
    "corr = tmp.corr()\n",
    "# Plot the correlation matrix\n",
    "sns.heatmap(corr, annot=True, cmap=\"YlGnBu\")\n"
   ]
  },
  {
   "cell_type": "code",
   "execution_count": null,
   "metadata": {},
   "outputs": [],
   "source": [
    "# Correlate the emission variable with variables starting with Carbon\n",
    "# Select the columns starting with Carbon\n",
    "tmp = train[train.columns[train.columns.str.contains('Ozone')]]\n",
    "# Add the emission column\n",
    "tmp['emission'] = train['emission']\n",
    "corr = tmp.corr()\n",
    "# Plot the correlation matrix\n",
    "sns.heatmap(corr, annot=True, cmap=\"YlGnBu\")\n"
   ]
  },
  {
   "cell_type": "code",
   "execution_count": null,
   "metadata": {},
   "outputs": [],
   "source": [
    "# Correlate the emission variable with variables starting with Carbon\n",
    "# Select the columns starting with Carbon\n",
    "tmp = train[train.columns[train.columns.str.contains('Formaldehyde')]]\n",
    "# Add the emission column\n",
    "tmp['emission'] = train['emission']\n",
    "corr = tmp.corr()\n",
    "# Plot the correlation matrix\n",
    "sns.heatmap(corr, annot=True, cmap=\"YlGnBu\")\n"
   ]
  }
 ],
 "metadata": {
  "kernelspec": {
   "display_name": "rwanda-qMl64OKB-py3.9",
   "language": "python",
   "name": "python3"
  },
  "language_info": {
   "codemirror_mode": {
    "name": "ipython",
    "version": 3
   },
   "file_extension": ".py",
   "mimetype": "text/x-python",
   "name": "python",
   "nbconvert_exporter": "python",
   "pygments_lexer": "ipython3",
   "version": "3.9.16"
  },
  "orig_nbformat": 4
 },
 "nbformat": 4,
 "nbformat_minor": 2
}
