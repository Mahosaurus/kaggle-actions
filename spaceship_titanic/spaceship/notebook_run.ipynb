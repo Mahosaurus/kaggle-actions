{
 "cells": [
  {
   "cell_type": "code",
   "execution_count": 132,
   "metadata": {},
   "outputs": [
    {
     "name": "stdout",
     "output_type": "stream",
     "text": [
      "The autoreload extension is already loaded. To reload it, use:\n",
      "  %reload_ext autoreload\n"
     ]
    }
   ],
   "source": [
    "%load_ext autoreload\n",
    "%autoreload 2"
   ]
  },
  {
   "cell_type": "code",
   "execution_count": 133,
   "metadata": {},
   "outputs": [],
   "source": [
    "import pandas as pd\n",
    "\n",
    "import sklearn.model_selection as sc_model_selection\n"
   ]
  },
  {
   "cell_type": "code",
   "execution_count": 134,
   "metadata": {},
   "outputs": [],
   "source": [
    "data = pd.read_csv(\"data/train.csv\")"
   ]
  },
  {
   "cell_type": "code",
   "execution_count": 135,
   "metadata": {},
   "outputs": [
    {
     "data": {
      "text/html": [
       "<div>\n",
       "<style scoped>\n",
       "    .dataframe tbody tr th:only-of-type {\n",
       "        vertical-align: middle;\n",
       "    }\n",
       "\n",
       "    .dataframe tbody tr th {\n",
       "        vertical-align: top;\n",
       "    }\n",
       "\n",
       "    .dataframe thead th {\n",
       "        text-align: right;\n",
       "    }\n",
       "</style>\n",
       "<table border=\"1\" class=\"dataframe\">\n",
       "  <thead>\n",
       "    <tr style=\"text-align: right;\">\n",
       "      <th></th>\n",
       "      <th>PassengerId</th>\n",
       "      <th>HomePlanet</th>\n",
       "      <th>CryoSleep</th>\n",
       "      <th>Cabin</th>\n",
       "      <th>Destination</th>\n",
       "      <th>Age</th>\n",
       "      <th>VIP</th>\n",
       "      <th>RoomService</th>\n",
       "      <th>FoodCourt</th>\n",
       "      <th>ShoppingMall</th>\n",
       "      <th>Spa</th>\n",
       "      <th>VRDeck</th>\n",
       "      <th>Name</th>\n",
       "      <th>Transported</th>\n",
       "    </tr>\n",
       "  </thead>\n",
       "  <tbody>\n",
       "    <tr>\n",
       "      <th>0</th>\n",
       "      <td>0001_01</td>\n",
       "      <td>Europa</td>\n",
       "      <td>False</td>\n",
       "      <td>B/0/P</td>\n",
       "      <td>TRAPPIST-1e</td>\n",
       "      <td>39.0</td>\n",
       "      <td>False</td>\n",
       "      <td>0.0</td>\n",
       "      <td>0.0</td>\n",
       "      <td>0.0</td>\n",
       "      <td>0.0</td>\n",
       "      <td>0.0</td>\n",
       "      <td>Maham Ofracculy</td>\n",
       "      <td>False</td>\n",
       "    </tr>\n",
       "    <tr>\n",
       "      <th>1</th>\n",
       "      <td>0002_01</td>\n",
       "      <td>Earth</td>\n",
       "      <td>False</td>\n",
       "      <td>F/0/S</td>\n",
       "      <td>TRAPPIST-1e</td>\n",
       "      <td>24.0</td>\n",
       "      <td>False</td>\n",
       "      <td>109.0</td>\n",
       "      <td>9.0</td>\n",
       "      <td>25.0</td>\n",
       "      <td>549.0</td>\n",
       "      <td>44.0</td>\n",
       "      <td>Juanna Vines</td>\n",
       "      <td>True</td>\n",
       "    </tr>\n",
       "    <tr>\n",
       "      <th>2</th>\n",
       "      <td>0003_01</td>\n",
       "      <td>Europa</td>\n",
       "      <td>False</td>\n",
       "      <td>A/0/S</td>\n",
       "      <td>TRAPPIST-1e</td>\n",
       "      <td>58.0</td>\n",
       "      <td>True</td>\n",
       "      <td>43.0</td>\n",
       "      <td>3576.0</td>\n",
       "      <td>0.0</td>\n",
       "      <td>6715.0</td>\n",
       "      <td>49.0</td>\n",
       "      <td>Altark Susent</td>\n",
       "      <td>False</td>\n",
       "    </tr>\n",
       "    <tr>\n",
       "      <th>3</th>\n",
       "      <td>0003_02</td>\n",
       "      <td>Europa</td>\n",
       "      <td>False</td>\n",
       "      <td>A/0/S</td>\n",
       "      <td>TRAPPIST-1e</td>\n",
       "      <td>33.0</td>\n",
       "      <td>False</td>\n",
       "      <td>0.0</td>\n",
       "      <td>1283.0</td>\n",
       "      <td>371.0</td>\n",
       "      <td>3329.0</td>\n",
       "      <td>193.0</td>\n",
       "      <td>Solam Susent</td>\n",
       "      <td>False</td>\n",
       "    </tr>\n",
       "    <tr>\n",
       "      <th>4</th>\n",
       "      <td>0004_01</td>\n",
       "      <td>Earth</td>\n",
       "      <td>False</td>\n",
       "      <td>F/1/S</td>\n",
       "      <td>TRAPPIST-1e</td>\n",
       "      <td>16.0</td>\n",
       "      <td>False</td>\n",
       "      <td>303.0</td>\n",
       "      <td>70.0</td>\n",
       "      <td>151.0</td>\n",
       "      <td>565.0</td>\n",
       "      <td>2.0</td>\n",
       "      <td>Willy Santantines</td>\n",
       "      <td>True</td>\n",
       "    </tr>\n",
       "    <tr>\n",
       "      <th>...</th>\n",
       "      <td>...</td>\n",
       "      <td>...</td>\n",
       "      <td>...</td>\n",
       "      <td>...</td>\n",
       "      <td>...</td>\n",
       "      <td>...</td>\n",
       "      <td>...</td>\n",
       "      <td>...</td>\n",
       "      <td>...</td>\n",
       "      <td>...</td>\n",
       "      <td>...</td>\n",
       "      <td>...</td>\n",
       "      <td>...</td>\n",
       "      <td>...</td>\n",
       "    </tr>\n",
       "    <tr>\n",
       "      <th>8688</th>\n",
       "      <td>9276_01</td>\n",
       "      <td>Europa</td>\n",
       "      <td>False</td>\n",
       "      <td>A/98/P</td>\n",
       "      <td>55 Cancri e</td>\n",
       "      <td>41.0</td>\n",
       "      <td>True</td>\n",
       "      <td>0.0</td>\n",
       "      <td>6819.0</td>\n",
       "      <td>0.0</td>\n",
       "      <td>1643.0</td>\n",
       "      <td>74.0</td>\n",
       "      <td>Gravior Noxnuther</td>\n",
       "      <td>False</td>\n",
       "    </tr>\n",
       "    <tr>\n",
       "      <th>8689</th>\n",
       "      <td>9278_01</td>\n",
       "      <td>Earth</td>\n",
       "      <td>True</td>\n",
       "      <td>G/1499/S</td>\n",
       "      <td>PSO J318.5-22</td>\n",
       "      <td>18.0</td>\n",
       "      <td>False</td>\n",
       "      <td>0.0</td>\n",
       "      <td>0.0</td>\n",
       "      <td>0.0</td>\n",
       "      <td>0.0</td>\n",
       "      <td>0.0</td>\n",
       "      <td>Kurta Mondalley</td>\n",
       "      <td>False</td>\n",
       "    </tr>\n",
       "    <tr>\n",
       "      <th>8690</th>\n",
       "      <td>9279_01</td>\n",
       "      <td>Earth</td>\n",
       "      <td>False</td>\n",
       "      <td>G/1500/S</td>\n",
       "      <td>TRAPPIST-1e</td>\n",
       "      <td>26.0</td>\n",
       "      <td>False</td>\n",
       "      <td>0.0</td>\n",
       "      <td>0.0</td>\n",
       "      <td>1872.0</td>\n",
       "      <td>1.0</td>\n",
       "      <td>0.0</td>\n",
       "      <td>Fayey Connon</td>\n",
       "      <td>True</td>\n",
       "    </tr>\n",
       "    <tr>\n",
       "      <th>8691</th>\n",
       "      <td>9280_01</td>\n",
       "      <td>Europa</td>\n",
       "      <td>False</td>\n",
       "      <td>E/608/S</td>\n",
       "      <td>55 Cancri e</td>\n",
       "      <td>32.0</td>\n",
       "      <td>False</td>\n",
       "      <td>0.0</td>\n",
       "      <td>1049.0</td>\n",
       "      <td>0.0</td>\n",
       "      <td>353.0</td>\n",
       "      <td>3235.0</td>\n",
       "      <td>Celeon Hontichre</td>\n",
       "      <td>False</td>\n",
       "    </tr>\n",
       "    <tr>\n",
       "      <th>8692</th>\n",
       "      <td>9280_02</td>\n",
       "      <td>Europa</td>\n",
       "      <td>False</td>\n",
       "      <td>E/608/S</td>\n",
       "      <td>TRAPPIST-1e</td>\n",
       "      <td>44.0</td>\n",
       "      <td>False</td>\n",
       "      <td>126.0</td>\n",
       "      <td>4688.0</td>\n",
       "      <td>0.0</td>\n",
       "      <td>0.0</td>\n",
       "      <td>12.0</td>\n",
       "      <td>Propsh Hontichre</td>\n",
       "      <td>True</td>\n",
       "    </tr>\n",
       "  </tbody>\n",
       "</table>\n",
       "<p>8693 rows × 14 columns</p>\n",
       "</div>"
      ],
      "text/plain": [
       "     PassengerId HomePlanet CryoSleep     Cabin    Destination   Age    VIP  \\\n",
       "0        0001_01     Europa     False     B/0/P    TRAPPIST-1e  39.0  False   \n",
       "1        0002_01      Earth     False     F/0/S    TRAPPIST-1e  24.0  False   \n",
       "2        0003_01     Europa     False     A/0/S    TRAPPIST-1e  58.0   True   \n",
       "3        0003_02     Europa     False     A/0/S    TRAPPIST-1e  33.0  False   \n",
       "4        0004_01      Earth     False     F/1/S    TRAPPIST-1e  16.0  False   \n",
       "...          ...        ...       ...       ...            ...   ...    ...   \n",
       "8688     9276_01     Europa     False    A/98/P    55 Cancri e  41.0   True   \n",
       "8689     9278_01      Earth      True  G/1499/S  PSO J318.5-22  18.0  False   \n",
       "8690     9279_01      Earth     False  G/1500/S    TRAPPIST-1e  26.0  False   \n",
       "8691     9280_01     Europa     False   E/608/S    55 Cancri e  32.0  False   \n",
       "8692     9280_02     Europa     False   E/608/S    TRAPPIST-1e  44.0  False   \n",
       "\n",
       "      RoomService  FoodCourt  ShoppingMall     Spa  VRDeck               Name  \\\n",
       "0             0.0        0.0           0.0     0.0     0.0    Maham Ofracculy   \n",
       "1           109.0        9.0          25.0   549.0    44.0       Juanna Vines   \n",
       "2            43.0     3576.0           0.0  6715.0    49.0      Altark Susent   \n",
       "3             0.0     1283.0         371.0  3329.0   193.0       Solam Susent   \n",
       "4           303.0       70.0         151.0   565.0     2.0  Willy Santantines   \n",
       "...           ...        ...           ...     ...     ...                ...   \n",
       "8688          0.0     6819.0           0.0  1643.0    74.0  Gravior Noxnuther   \n",
       "8689          0.0        0.0           0.0     0.0     0.0    Kurta Mondalley   \n",
       "8690          0.0        0.0        1872.0     1.0     0.0       Fayey Connon   \n",
       "8691          0.0     1049.0           0.0   353.0  3235.0   Celeon Hontichre   \n",
       "8692        126.0     4688.0           0.0     0.0    12.0   Propsh Hontichre   \n",
       "\n",
       "      Transported  \n",
       "0           False  \n",
       "1            True  \n",
       "2           False  \n",
       "3           False  \n",
       "4            True  \n",
       "...           ...  \n",
       "8688        False  \n",
       "8689        False  \n",
       "8690         True  \n",
       "8691        False  \n",
       "8692         True  \n",
       "\n",
       "[8693 rows x 14 columns]"
      ]
     },
     "execution_count": 135,
     "metadata": {},
     "output_type": "execute_result"
    }
   ],
   "source": [
    "data"
   ]
  },
  {
   "attachments": {},
   "cell_type": "markdown",
   "metadata": {},
   "source": [
    "# Preprocessing"
   ]
  },
  {
   "cell_type": "code",
   "execution_count": null,
   "metadata": {},
   "outputs": [],
   "source": []
  },
  {
   "cell_type": "code",
   "execution_count": 136,
   "metadata": {},
   "outputs": [
    {
     "name": "stderr",
     "output_type": "stream",
     "text": [
      "/root/.cache/pypoetry/virtualenvs/spaceship-ZTN2T40u-py3.9/lib/python3.9/site-packages/sklearn/base.py:420: UserWarning: X does not have valid feature names, but OneHotEncoder was fitted with feature names\n",
      "  warnings.warn(\n",
      "/root/.cache/pypoetry/virtualenvs/spaceship-ZTN2T40u-py3.9/lib/python3.9/site-packages/sklearn/base.py:420: UserWarning: X does not have valid feature names, but OneHotEncoder was fitted with feature names\n",
      "  warnings.warn(\n",
      "/root/.cache/pypoetry/virtualenvs/spaceship-ZTN2T40u-py3.9/lib/python3.9/site-packages/sklearn/base.py:420: UserWarning: X does not have valid feature names, but OneHotEncoder was fitted with feature names\n",
      "  warnings.warn(\n",
      "/root/.cache/pypoetry/virtualenvs/spaceship-ZTN2T40u-py3.9/lib/python3.9/site-packages/sklearn/base.py:420: UserWarning: X does not have valid feature names, but OneHotEncoder was fitted with feature names\n",
      "  warnings.warn(\n",
      "/root/.cache/pypoetry/virtualenvs/spaceship-ZTN2T40u-py3.9/lib/python3.9/site-packages/sklearn/base.py:420: UserWarning: X does not have valid feature names, but OneHotEncoder was fitted with feature names\n",
      "  warnings.warn(\n",
      "/root/.cache/pypoetry/virtualenvs/spaceship-ZTN2T40u-py3.9/lib/python3.9/site-packages/sklearn/base.py:420: UserWarning: X does not have valid feature names, but OneHotEncoder was fitted with feature names\n",
      "  warnings.warn(\n",
      "/root/.cache/pypoetry/virtualenvs/spaceship-ZTN2T40u-py3.9/lib/python3.9/site-packages/sklearn/base.py:420: UserWarning: X does not have valid feature names, but OneHotEncoder was fitted with feature names\n",
      "  warnings.warn(\n"
     ]
    }
   ],
   "source": [
    "from pipeline.pipeline import get_pipeline, apply_pipeline\n",
    "encoders, imputers = get_pipeline(data)\n",
    "data = apply_pipeline(data, encoders, imputers)"
   ]
  },
  {
   "cell_type": "code",
   "execution_count": 137,
   "metadata": {},
   "outputs": [
    {
     "data": {
      "text/plain": [
       "array(['PassengerId', 'HomePlanet', 'CryoSleep', 'Cabin', 'Destination',\n",
       "       'Age', 'VIP', 'RoomService', 'FoodCourt', 'ShoppingMall', 'Spa',\n",
       "       'VRDeck', 'Name', 'Transported', 'No_PassengerId_Indicator',\n",
       "       'No_HomePlanet_Indicator', 'No_CryoSleep_Indicator',\n",
       "       'No_Cabin_Indicator', 'No_Destination_Indicator',\n",
       "       'No_Age_Indicator', 'No_VIP_Indicator', 'No_RoomService_Indicator',\n",
       "       'No_FoodCourt_Indicator', 'No_ShoppingMall_Indicator',\n",
       "       'No_Spa_Indicator', 'No_VRDeck_Indicator', 'No_Name_Indicator',\n",
       "       'No_Transported_Indicator', 'Cabin_Deck', 'Cabin_Num',\n",
       "       'Cabin_Side', 'PassengerId_Group', 'PassengerId_GroupNumber',\n",
       "       'RoomService_paid', 'FoodCourt_paid', 'PassengerId_Group_0220',\n",
       "       'PassengerId_Group_0221', 'PassengerId_Group_0378',\n",
       "       'PassengerId_Group_0571', 'PassengerId_Group_0714',\n",
       "       'PassengerId_Group_0984', 'PassengerId_Group_1148',\n",
       "       'PassengerId_Group_1211', 'PassengerId_Group_1500',\n",
       "       'PassengerId_Group_1709', 'PassengerId_Group_1976',\n",
       "       'PassengerId_Group_2234', 'PassengerId_Group_2347',\n",
       "       'PassengerId_Group_2384', 'PassengerId_Group_3850',\n",
       "       'PassengerId_Group_3862', 'PassengerId_Group_3868',\n",
       "       'PassengerId_Group_4001', 'PassengerId_Group_4005',\n",
       "       'PassengerId_Group_4172', 'PassengerId_Group_4176',\n",
       "       'PassengerId_Group_4256', 'PassengerId_Group_4498',\n",
       "       'PassengerId_Group_4625', 'PassengerId_Group_4661',\n",
       "       'PassengerId_Group_5133', 'PassengerId_Group_5756',\n",
       "       'PassengerId_Group_5814', 'PassengerId_Group_5885',\n",
       "       'PassengerId_Group_5927', 'PassengerId_Group_6020',\n",
       "       'PassengerId_Group_6030', 'PassengerId_Group_6302',\n",
       "       'PassengerId_Group_6334', 'PassengerId_Group_6363',\n",
       "       'PassengerId_Group_6443', 'PassengerId_Group_6787',\n",
       "       'PassengerId_Group_8168', 'PassengerId_Group_8383',\n",
       "       'PassengerId_Group_8728', 'PassengerId_Group_8770',\n",
       "       'PassengerId_Group_8796', 'PassengerId_Group_8956',\n",
       "       'PassengerId_Group_8988', 'PassengerId_Group_9081',\n",
       "       'PassengerId_Group_9157', 'PassengerId_Group_infrequent_sklearn',\n",
       "       'HomePlanet_Earth', 'HomePlanet_Europa', 'HomePlanet_Mars',\n",
       "       'HomePlanet_nan', 'CryoSleep_False', 'CryoSleep_True',\n",
       "       'CryoSleep_nan', 'VIP_False', 'VIP_True',\n",
       "       'Destination_55 Cancri e', 'Destination_PSO J318.5-22',\n",
       "       'Destination_TRAPPIST-1e', 'Destination_nan', 'Cabin_Deck_A',\n",
       "       'Cabin_Deck_B', 'Cabin_Deck_C', 'Cabin_Deck_D', 'Cabin_Deck_E',\n",
       "       'Cabin_Deck_F', 'Cabin_Deck_G', 'Cabin_Deck_T', 'Cabin_Side_P',\n",
       "       'Cabin_Side_S'], dtype=object)"
      ]
     },
     "execution_count": 137,
     "metadata": {},
     "output_type": "execute_result"
    }
   ],
   "source": [
    "data.columns.values[0:1000]"
   ]
  },
  {
   "attachments": {},
   "cell_type": "markdown",
   "metadata": {},
   "source": [
    "# Training"
   ]
  },
  {
   "cell_type": "code",
   "execution_count": 138,
   "metadata": {},
   "outputs": [],
   "source": [
    "X = data.loc[:, data.columns != 'Transported']\n",
    "Y = data['Transported']\n",
    "X_tmp, X_test = sc_model_selection.train_test_split(X)\n",
    "Y_tmp, Y_test = sc_model_selection.train_test_split(Y)\n",
    "X_train, X_val = sc_model_selection.train_test_split(X_tmp)\n",
    "Y_train, Y_val = sc_model_selection.train_test_split(Y_tmp)\n"
   ]
  },
  {
   "attachments": {},
   "cell_type": "markdown",
   "metadata": {},
   "source": [
    "# Definitions"
   ]
  },
  {
   "cell_type": "code",
   "execution_count": 139,
   "metadata": {},
   "outputs": [],
   "source": [
    "COLUMNS = [\n",
    "    ## Metric\n",
    "    \"Age\",\n",
    "    \"RoomService\",\n",
    "    \"RoomService_paid\",\n",
    "    \"FoodCourt\",\n",
    "    \"FoodCourt_paid\",\n",
    "    # \"ShoppingMall\",\n",
    "    \"Spa\",\n",
    "    \"VRDeck\",\n",
    "    \"Cabin_Num\",\n",
    "    ## HomePlanet\n",
    "    # \"HomePlanet_Earth\",\n",
    "    \"HomePlanet_Europa\",\n",
    "    # \"HomePlanet_Mars\",\n",
    "    ## VIP\n",
    "    \"VIP_True\",\n",
    "    \"VIP_False\",\n",
    "    ## Dest\n",
    "    \"Destination_55 Cancri e\",\n",
    "    # \"Destination_PSO J318.5-22\",\n",
    "    # \"Destination_TRAPPIST-1e\",\n",
    "    ## Cryo\n",
    "    \"CryoSleep_False\",\n",
    "    # \"CryoSleep_True\",\n",
    "    ## Deck\n",
    "    'Cabin_Deck_B', 'Cabin_Deck_C',  'Cabin_Deck_E',\n",
    "    'Cabin_Deck_F', 'Cabin_Deck_G', 'Cabin_Deck_T', \n",
    "    ## Side\n",
    "    'Cabin_Side_P',\n",
    "    'Cabin_Side_S',\n",
    "    \"No_Cabin_Indicator\",\n",
    "    # Pass ID\n",
    "    'PassengerId_Group_0220',\n",
    "    'PassengerId_Group_0221', 'PassengerId_Group_0378',\n",
    "    'PassengerId_Group_0571', 'PassengerId_Group_0714',\n",
    "    'PassengerId_Group_0984', 'PassengerId_Group_1148',\n",
    "    'PassengerId_Group_1211', 'PassengerId_Group_1500',\n",
    "    'PassengerId_Group_1709', 'PassengerId_Group_1976',\n",
    "    'PassengerId_Group_2234', 'PassengerId_Group_2347',\n",
    "    'PassengerId_Group_2384', 'PassengerId_Group_3850',\n",
    "    'PassengerId_Group_3862', 'PassengerId_Group_3868',\n",
    "    'PassengerId_Group_4001', 'PassengerId_Group_4005',\n",
    "    'PassengerId_Group_4172', 'PassengerId_Group_4176',\n",
    "    'PassengerId_Group_4256', 'PassengerId_Group_4498',\n",
    "    'PassengerId_Group_4625', 'PassengerId_Group_4661',\n",
    "    'PassengerId_Group_5133', 'PassengerId_Group_5756',\n",
    "    'PassengerId_Group_5814', 'PassengerId_Group_5885',\n",
    "    'PassengerId_Group_5927', 'PassengerId_Group_6020',\n",
    "    'PassengerId_Group_6030', 'PassengerId_Group_6302',\n",
    "    'PassengerId_Group_6334', 'PassengerId_Group_6363',\n",
    "    'PassengerId_Group_6443', 'PassengerId_Group_6787',\n",
    "    'PassengerId_Group_8168', 'PassengerId_Group_8383',\n",
    "    'PassengerId_Group_8728', 'PassengerId_Group_8770',\n",
    "    'PassengerId_Group_8796', 'PassengerId_Group_8956',\n",
    "    'PassengerId_Group_8988', 'PassengerId_Group_9081',\n",
    "    'PassengerId_Group_9157'\n",
    "]\n"
   ]
  },
  {
   "cell_type": "code",
   "execution_count": 140,
   "metadata": {},
   "outputs": [
    {
     "data": {
      "text/plain": [
       "Age                       0\n",
       "RoomService               0\n",
       "RoomService_paid          0\n",
       "FoodCourt                 0\n",
       "FoodCourt_paid            0\n",
       "                         ..\n",
       "PassengerId_Group_8796    0\n",
       "PassengerId_Group_8956    0\n",
       "PassengerId_Group_8988    0\n",
       "PassengerId_Group_9081    0\n",
       "PassengerId_Group_9157    0\n",
       "Length: 68, dtype: int64"
      ]
     },
     "execution_count": 140,
     "metadata": {},
     "output_type": "execute_result"
    }
   ],
   "source": [
    "data[COLUMNS].isnull().sum()"
   ]
  },
  {
   "attachments": {},
   "cell_type": "markdown",
   "metadata": {},
   "source": [
    "## Models"
   ]
  },
  {
   "cell_type": "code",
   "execution_count": 141,
   "metadata": {},
   "outputs": [],
   "source": [
    "from models.baseline_regression import get_baseline_regression_model\n",
    "from models.baseline_nn import get_baseline_nn_model\n",
    "model = get_baseline_regression_model(X_train, Y_train, COLUMNS)\n",
    "#model = get_baseline_nn_model(X_train, Y_train, COLUMNS)"
   ]
  },
  {
   "attachments": {},
   "cell_type": "markdown",
   "metadata": {},
   "source": [
    "# Evaluation on validation data"
   ]
  },
  {
   "cell_type": "code",
   "execution_count": 142,
   "metadata": {},
   "outputs": [
    {
     "data": {
      "text/plain": [
       "0.47300613496932514"
      ]
     },
     "execution_count": 142,
     "metadata": {},
     "output_type": "execute_result"
    }
   ],
   "source": [
    "from sklearn.metrics import accuracy_score\n",
    "prediction = model.predict(X_val[COLUMNS])\n",
    "accuracy_score(prediction, Y_val)"
   ]
  },
  {
   "attachments": {},
   "cell_type": "markdown",
   "metadata": {},
   "source": [
    "# Train on full model"
   ]
  },
  {
   "cell_type": "code",
   "execution_count": 143,
   "metadata": {},
   "outputs": [],
   "source": [
    "model = get_baseline_nn_model(X, Y, COLUMNS)"
   ]
  },
  {
   "attachments": {},
   "cell_type": "markdown",
   "metadata": {},
   "source": [
    "# Prediction"
   ]
  },
  {
   "cell_type": "code",
   "execution_count": 146,
   "metadata": {},
   "outputs": [
    {
     "name": "stderr",
     "output_type": "stream",
     "text": [
      "/root/.cache/pypoetry/virtualenvs/spaceship-ZTN2T40u-py3.9/lib/python3.9/site-packages/sklearn/base.py:420: UserWarning: X does not have valid feature names, but OneHotEncoder was fitted with feature names\n",
      "  warnings.warn(\n",
      "/root/.cache/pypoetry/virtualenvs/spaceship-ZTN2T40u-py3.9/lib/python3.9/site-packages/sklearn/base.py:420: UserWarning: X does not have valid feature names, but OneHotEncoder was fitted with feature names\n",
      "  warnings.warn(\n",
      "/root/.cache/pypoetry/virtualenvs/spaceship-ZTN2T40u-py3.9/lib/python3.9/site-packages/sklearn/base.py:420: UserWarning: X does not have valid feature names, but OneHotEncoder was fitted with feature names\n",
      "  warnings.warn(\n",
      "/root/.cache/pypoetry/virtualenvs/spaceship-ZTN2T40u-py3.9/lib/python3.9/site-packages/sklearn/base.py:420: UserWarning: X does not have valid feature names, but OneHotEncoder was fitted with feature names\n",
      "  warnings.warn(\n",
      "/root/.cache/pypoetry/virtualenvs/spaceship-ZTN2T40u-py3.9/lib/python3.9/site-packages/sklearn/base.py:420: UserWarning: X does not have valid feature names, but OneHotEncoder was fitted with feature names\n",
      "  warnings.warn(\n",
      "/root/.cache/pypoetry/virtualenvs/spaceship-ZTN2T40u-py3.9/lib/python3.9/site-packages/sklearn/base.py:420: UserWarning: X does not have valid feature names, but OneHotEncoder was fitted with feature names\n",
      "  warnings.warn(\n",
      "/root/.cache/pypoetry/virtualenvs/spaceship-ZTN2T40u-py3.9/lib/python3.9/site-packages/sklearn/base.py:420: UserWarning: X does not have valid feature names, but OneHotEncoder was fitted with feature names\n",
      "  warnings.warn(\n"
     ]
    }
   ],
   "source": [
    "data_predict = pd.read_csv(\"data/test.csv\")\n",
    "data_predict = apply_pipeline(data_predict, encoders, imputers)\n",
    "# Get features\n",
    "predictor = data_predict[COLUMNS]\n",
    "# Predict\n",
    "PassengerId = data_predict[\"PassengerId\"]\n",
    "Prediction = model.predict(predictor)"
   ]
  },
  {
   "attachments": {},
   "cell_type": "markdown",
   "metadata": {},
   "source": [
    "# Write to file"
   ]
  },
  {
   "cell_type": "code",
   "execution_count": 147,
   "metadata": {},
   "outputs": [],
   "source": [
    "pd.DataFrame(Prediction, index=PassengerId, columns=[\"Transported\"]).to_csv(\"my_submission.csv\")"
   ]
  },
  {
   "cell_type": "code",
   "execution_count": null,
   "metadata": {},
   "outputs": [],
   "source": []
  }
 ],
 "metadata": {
  "kernelspec": {
   "display_name": "spaceship-ZTN2T40u-py3.9",
   "language": "python",
   "name": "python3"
  },
  "language_info": {
   "codemirror_mode": {
    "name": "ipython",
    "version": 3
   },
   "file_extension": ".py",
   "mimetype": "text/x-python",
   "name": "python",
   "nbconvert_exporter": "python",
   "pygments_lexer": "ipython3",
   "version": "3.9.16"
  },
  "orig_nbformat": 4,
  "vscode": {
   "interpreter": {
    "hash": "99a68df3470af1f10226d89430ec1929aa3c75f848c2c06b61fd23d0b2bd85d5"
   }
  }
 },
 "nbformat": 4,
 "nbformat_minor": 2
}
