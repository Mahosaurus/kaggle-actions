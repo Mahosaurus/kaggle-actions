{
 "cells": [
  {
   "cell_type": "code",
   "execution_count": 8,
   "metadata": {},
   "outputs": [
    {
     "name": "stdout",
     "output_type": "stream",
     "text": [
      "The autoreload extension is already loaded. To reload it, use:\n",
      "  %reload_ext autoreload\n"
     ]
    }
   ],
   "source": [
    "%load_ext autoreload\n",
    "%autoreload 2"
   ]
  },
  {
   "cell_type": "code",
   "execution_count": 9,
   "metadata": {},
   "outputs": [],
   "source": [
    "import pandas as pd\n",
    "\n",
    "import sklearn.model_selection as sc_model_selection\n"
   ]
  },
  {
   "cell_type": "code",
   "execution_count": 10,
   "metadata": {},
   "outputs": [],
   "source": [
    "data = pd.read_csv(\"data/train.csv\")"
   ]
  },
  {
   "attachments": {},
   "cell_type": "markdown",
   "metadata": {},
   "source": [
    "# Preprocessing"
   ]
  },
  {
   "cell_type": "code",
   "execution_count": 11,
   "metadata": {},
   "outputs": [
    {
     "name": "stderr",
     "output_type": "stream",
     "text": [
      "/workspaces/kaggle-actions/spaceship_titanic/spaceship/pipeline/pipeline.py:18: FutureWarning: In a future version of pandas all arguments of StringMethods.split except for the argument 'pat' will be keyword-only.\n",
      "  data[[\"Deck\", \"Num\", \"Side\"]] = data[\"Cabin\"].str.split('/', 3, expand=True)\n"
     ]
    }
   ],
   "source": [
    "from pipeline.pipeline import make_pipeline\n",
    "data = make_pipeline(data)"
   ]
  },
  {
   "attachments": {},
   "cell_type": "markdown",
   "metadata": {},
   "source": [
    "# Training"
   ]
  },
  {
   "cell_type": "code",
   "execution_count": 12,
   "metadata": {},
   "outputs": [],
   "source": [
    "X = data.loc[:, data.columns != 'Transported']\n",
    "Y = data['Transported']\n",
    "X_train, X_test = sc_model_selection.train_test_split(X)\n",
    "Y_train, Y_test = sc_model_selection.train_test_split(Y)"
   ]
  },
  {
   "attachments": {},
   "cell_type": "markdown",
   "metadata": {},
   "source": [
    "# Definitions"
   ]
  },
  {
   "cell_type": "code",
   "execution_count": 13,
   "metadata": {},
   "outputs": [
    {
     "data": {
      "text/plain": [
       "array(['PassengerId', 'Cabin', 'Age', 'RoomService', 'FoodCourt',\n",
       "       'ShoppingMall', 'Spa', 'VRDeck', 'Name', 'Transported',\n",
       "       'HomePlanet_Earth', 'HomePlanet_Europa', 'HomePlanet_Mars',\n",
       "       'VIP_False', 'VIP_True', 'Destination_55 Cancri e',\n",
       "       'Destination_PSO J318.5-22', 'Destination_TRAPPIST-1e', 'Num',\n",
       "       'Deck_A', 'Deck_B', 'Deck_C', 'Deck_D', 'Deck_E', 'Deck_F',\n",
       "       'Deck_G', 'Deck_T', 'Side_P', 'Side_S', 'CryoSleep_False',\n",
       "       'CryoSleep_True'], dtype=object)"
      ]
     },
     "execution_count": 13,
     "metadata": {},
     "output_type": "execute_result"
    }
   ],
   "source": [
    "data.columns.values[0:1000]"
   ]
  },
  {
   "cell_type": "code",
   "execution_count": 19,
   "metadata": {},
   "outputs": [],
   "source": [
    "COLUMNS = [\n",
    "    ## Metric\n",
    "    \"Age\",\n",
    "    \"RoomService\",\n",
    "    \"FoodCourt\",\n",
    "    #\"ShoppingMall\",\n",
    "    \"Spa\",\n",
    "    \"VRDeck\",\n",
    "    \"Num\",\n",
    "    ## HomePlanet\n",
    "    #\"HomePlanet_Earth\",\n",
    "    #\"HomePlanet_Europa\",\n",
    "    #\"HomePlanet_Mars\",\n",
    "    ## VIP\n",
    "    #\"VIP_True\",\n",
    "    #\"VIP_False\",\n",
    "    ## Dest\n",
    "    #\"Destination_55 Cancri e\",\n",
    "    #\"Destination_PSO J318.5-22\",\n",
    "    #\"Destination_TRAPPIST-1e\",\n",
    "    ## Cryo\n",
    "    #\"CryoSleep_False\",\n",
    "    #\"CryoSleep_True\",\n",
    "    ## Deck\n",
    "    #\"Deck_A\",\n",
    "    #\"Deck_B\",\n",
    "    #\"Deck_C\",\n",
    "    #\"Deck_D\",\n",
    "    #\"Deck_E\",\n",
    "    #\"Deck_F\",\n",
    "    #\"Deck_G\",\n",
    "    #\"Deck_T\",\n",
    "    ## Side\n",
    "    #\"Side_P\",\n",
    "    #\"Side_S\",\n",
    "]\n"
   ]
  },
  {
   "attachments": {},
   "cell_type": "markdown",
   "metadata": {},
   "source": [
    "## Models"
   ]
  },
  {
   "cell_type": "code",
   "execution_count": 20,
   "metadata": {},
   "outputs": [],
   "source": [
    "from models.baseline_regression import get_baseline_regression_model\n",
    "model = get_baseline_regression_model(X_train, Y_train, COLUMNS)"
   ]
  },
  {
   "attachments": {},
   "cell_type": "markdown",
   "metadata": {},
   "source": [
    "# Evaluation"
   ]
  },
  {
   "cell_type": "code",
   "execution_count": 21,
   "metadata": {},
   "outputs": [
    {
     "data": {
      "text/plain": [
       "0.49310027598896045"
      ]
     },
     "execution_count": 21,
     "metadata": {},
     "output_type": "execute_result"
    }
   ],
   "source": [
    "from sklearn.metrics import accuracy_score\n",
    "prediction = model.predict(X_test[COLUMNS])\n",
    "accuracy_score(prediction, Y_test)"
   ]
  },
  {
   "attachments": {},
   "cell_type": "markdown",
   "metadata": {},
   "source": [
    "# Prediction"
   ]
  },
  {
   "cell_type": "code",
   "execution_count": 17,
   "metadata": {},
   "outputs": [
    {
     "name": "stderr",
     "output_type": "stream",
     "text": [
      "/workspaces/kaggle-actions/spaceship_titanic/spaceship/pipeline/pipeline.py:18: FutureWarning: In a future version of pandas all arguments of StringMethods.split except for the argument 'pat' will be keyword-only.\n",
      "  data[[\"Deck\", \"Num\", \"Side\"]] = data[\"Cabin\"].str.split('/', 3, expand=True)\n"
     ]
    }
   ],
   "source": [
    "data_predict = pd.read_csv(\"data/test.csv\")\n",
    "data_predict = make_pipeline(data_predict)\n",
    "# Get features\n",
    "predictor = data_predict[COLUMNS]\n",
    "# Predict\n",
    "PassengerId = data_predict[\"PassengerId\"]\n",
    "Prediction = model.predict(predictor)"
   ]
  },
  {
   "attachments": {},
   "cell_type": "markdown",
   "metadata": {},
   "source": [
    "# Write to file"
   ]
  },
  {
   "cell_type": "code",
   "execution_count": 18,
   "metadata": {},
   "outputs": [],
   "source": [
    "pd.DataFrame(Prediction, index=PassengerId, columns=[\"Transported\"]).to_csv(\"my_submission.csv\")"
   ]
  },
  {
   "cell_type": "code",
   "execution_count": null,
   "metadata": {},
   "outputs": [],
   "source": []
  }
 ],
 "metadata": {
  "kernelspec": {
   "display_name": "spaceship-ZTN2T40u-py3.9",
   "language": "python",
   "name": "python3"
  },
  "language_info": {
   "codemirror_mode": {
    "name": "ipython",
    "version": 3
   },
   "file_extension": ".py",
   "mimetype": "text/x-python",
   "name": "python",
   "nbconvert_exporter": "python",
   "pygments_lexer": "ipython3",
   "version": "3.9.16"
  },
  "orig_nbformat": 4,
  "vscode": {
   "interpreter": {
    "hash": "99a68df3470af1f10226d89430ec1929aa3c75f848c2c06b61fd23d0b2bd85d5"
   }
  }
 },
 "nbformat": 4,
 "nbformat_minor": 2
}
