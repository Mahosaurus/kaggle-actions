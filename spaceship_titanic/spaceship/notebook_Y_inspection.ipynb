{
 "cells": [
  {
   "cell_type": "code",
   "execution_count": 2,
   "metadata": {},
   "outputs": [],
   "source": [
    "%load_ext autoreload\n",
    "%autoreload 2"
   ]
  },
  {
   "cell_type": "code",
   "execution_count": 3,
   "metadata": {},
   "outputs": [],
   "source": [
    "import pandas as pd\n",
    "import numpy as np\n",
    "import matplotlib as mpl"
   ]
  },
  {
   "cell_type": "code",
   "execution_count": 4,
   "metadata": {},
   "outputs": [],
   "source": [
    "data = pd.read_csv(\"data/train.csv\")"
   ]
  },
  {
   "cell_type": "code",
   "execution_count": 5,
   "metadata": {},
   "outputs": [
    {
     "data": {
      "text/plain": [
       "True     4378\n",
       "False    4315\n",
       "Name: Transported, dtype: int64"
      ]
     },
     "execution_count": 5,
     "metadata": {},
     "output_type": "execute_result"
    }
   ],
   "source": [
    "data[\"Transported\"].value_counts()"
   ]
  },
  {
   "cell_type": "code",
   "execution_count": 6,
   "metadata": {},
   "outputs": [],
   "source": [
    "from pipeline.pipeline import impute\n",
    "data = impute(data)"
   ]
  },
  {
   "cell_type": "code",
   "execution_count": 7,
   "metadata": {},
   "outputs": [
    {
     "name": "stderr",
     "output_type": "stream",
     "text": [
      "/workspaces/kaggle-actions/spaceship_titanic/spaceship/pipeline/pipeline.py:35: FutureWarning: In a future version of pandas all arguments of StringMethods.split except for the argument 'pat' will be keyword-only.\n",
      "  data[[\"Deck\", \"Num\", \"Side\"]] = data[\"Cabin\"].str.split('/', 3, expand=True)\n"
     ]
    }
   ],
   "source": [
    "from pipeline.pipeline import make_pipeline\n",
    "data = make_pipeline(data)"
   ]
  },
  {
   "cell_type": "code",
   "execution_count": 8,
   "metadata": {},
   "outputs": [
    {
     "data": {
      "text/plain": [
       "array(['PassengerId', 'Cabin', 'Age', 'RoomService', 'FoodCourt',\n",
       "       'ShoppingMall', 'Spa', 'VRDeck', 'Name', 'Transported',\n",
       "       'No_Cabin_Indicator', 'No_Destination_Indicator',\n",
       "       'HomePlanet_Earth', 'HomePlanet_Europa', 'HomePlanet_Mars',\n",
       "       'VIP_False', 'VIP_True', 'Destination_55 Cancri e',\n",
       "       'Destination_PSO J318.5-22', 'Destination_TRAPPIST-1e', 'Num',\n",
       "       'Deck_A', 'Deck_B', 'Deck_C', 'Deck_D', 'Deck_E', 'Deck_F',\n",
       "       'Deck_G', 'Deck_T', 'Side_P', 'Side_S', 'CryoSleep_False',\n",
       "       'CryoSleep_True'], dtype=object)"
      ]
     },
     "execution_count": 8,
     "metadata": {},
     "output_type": "execute_result"
    }
   ],
   "source": [
    "data.columns.values[0:1000]"
   ]
  },
  {
   "cell_type": "code",
   "execution_count": 26,
   "metadata": {},
   "outputs": [
    {
     "name": "stdout",
     "output_type": "stream",
     "text": [
      "Transported          False      True\n",
      "HomePlanet_Earth                    \n",
      "0                 0.406747  0.593253\n",
      "1                 0.576054  0.423946\n",
      "All               0.496376  0.503624\n",
      "Transported           False      True\n",
      "HomePlanet_Europa                    \n",
      "0                  0.546785  0.453215\n",
      "1                  0.341154  0.658846\n",
      "All                0.496376  0.503624\n",
      "Transported         False      True\n",
      "HomePlanet_Mars                    \n",
      "0                0.501298  0.498702\n",
      "1                0.476976  0.523024\n",
      "All              0.496376  0.503624\n"
     ]
    }
   ],
   "source": [
    "print(pd.crosstab(data.HomePlanet_Earth, data.Transported, margins=True, normalize=\"index\")) #NS\n",
    "print(pd.crosstab(data.HomePlanet_Europa, data.Transported, margins=True, normalize=\"index\")) #S\n",
    "print(pd.crosstab(data.HomePlanet_Mars, data.Transported, margins=True, normalize=\"index\")) #NS"
   ]
  },
  {
   "cell_type": "code",
   "execution_count": 25,
   "metadata": {},
   "outputs": [
    {
     "name": "stdout",
     "output_type": "stream",
     "text": [
      "Transported     False      True\n",
      "VIP_True                       \n",
      "0            0.495004  0.504996\n",
      "1            0.536585  0.463415\n",
      "All          0.496376  0.503624\n",
      "Transported     False      True\n",
      "VIP_False                      \n",
      "0            0.536585  0.463415\n",
      "1            0.495004  0.504996\n",
      "All          0.496376  0.503624\n"
     ]
    }
   ],
   "source": [
    "# Maybe significant\n",
    "print(pd.crosstab(data.VIP_True, data.Transported, margins=True, normalize=\"index\"))\n",
    "# Maybe significant\n",
    "print(pd.crosstab(data.VIP_False, data.Transported, margins=True, normalize=\"index\"))"
   ]
  },
  {
   "cell_type": "code",
   "execution_count": 22,
   "metadata": {},
   "outputs": [
    {
     "name": "stdout",
     "output_type": "stream",
     "text": [
      "Transported     False      True\n",
      "Deck_A                         \n",
      "0            0.496148  0.503852\n",
      "1            0.503906  0.496094\n",
      "All          0.496376  0.503624\n",
      "Transported     False      True\n",
      "Deck_B                         \n",
      "0            0.519080  0.480920\n",
      "1            0.265725  0.734275\n",
      "All          0.496376  0.503624\n",
      "Transported     False      True\n",
      "Deck_C                         \n",
      "0            0.512962  0.487038\n",
      "1            0.319946  0.680054\n",
      "All          0.496376  0.503624\n",
      "Transported     False      True\n",
      "Deck_D                         \n",
      "0            0.492270  0.507730\n",
      "1            0.566946  0.433054\n",
      "All          0.496376  0.503624\n",
      "Transported     False      True\n",
      "Deck_E                         \n",
      "0            0.479980  0.520020\n",
      "1            0.642694  0.357306\n",
      "All          0.496376  0.503624\n",
      "Transported     False      True\n",
      "Deck_F                         \n",
      "0            0.466181  0.533819\n",
      "1            0.560129  0.439871\n",
      "All          0.496376  0.503624\n",
      "Transported     False      True\n",
      "Deck_G                         \n",
      "0            0.501630  0.498370\n",
      "1            0.483783  0.516217\n",
      "All          0.496376  0.503624\n",
      "Transported     False      True\n",
      "Deck_T                         \n",
      "0            0.496202  0.503798\n",
      "1            0.800000  0.200000\n",
      "All          0.496376  0.503624\n"
     ]
    }
   ],
   "source": [
    "# TODO: Statistical test\n",
    "print(pd.crosstab(data.Deck_A, data.Transported, margins=True, normalize=\"index\")) #NS\n",
    "print(pd.crosstab(data.Deck_B, data.Transported, margins=True, normalize=\"index\")) #S\n",
    "print(pd.crosstab(data.Deck_C, data.Transported, margins=True, normalize=\"index\")) #S\n",
    "print(pd.crosstab(data.Deck_D, data.Transported, margins=True, normalize=\"index\")) #NS\n",
    "print(pd.crosstab(data.Deck_E, data.Transported, margins=True, normalize=\"index\")) #S\n",
    "print(pd.crosstab(data.Deck_F, data.Transported, margins=True, normalize=\"index\")) #S\n",
    "print(pd.crosstab(data.Deck_G, data.Transported, margins=True, normalize=\"index\")) #S\n",
    "print(pd.crosstab(data.Deck_T, data.Transported, margins=True, normalize=\"index\")) #S"
   ]
  },
  {
   "cell_type": "code",
   "execution_count": 28,
   "metadata": {},
   "outputs": [
    {
     "name": "stdout",
     "output_type": "stream",
     "text": [
      "Transported     False      True\n",
      "Side_S                         \n",
      "0            0.546425  0.453575\n",
      "1            0.444963  0.555037\n",
      "All          0.496376  0.503624\n",
      "Transported     False      True\n",
      "Side_P                         \n",
      "0            0.447292  0.552708\n",
      "1            0.548740  0.451260\n",
      "All          0.496376  0.503624\n"
     ]
    }
   ],
   "source": [
    "print(pd.crosstab(data.Side_S, data.Transported, margins=True, normalize=\"index\")) #MS\n",
    "print(pd.crosstab(data.Side_P, data.Transported, margins=True, normalize=\"index\")) #MS"
   ]
  },
  {
   "cell_type": "code",
   "execution_count": 33,
   "metadata": {},
   "outputs": [
    {
     "name": "stdout",
     "output_type": "stream",
     "text": [
      "Transported                   False      True\n",
      "Destination_PSO J318.5-22                    \n",
      "0                          0.496391  0.503609\n",
      "1                          0.496231  0.503769\n",
      "All                        0.496376  0.503624\n",
      "Transported                 False      True\n",
      "Destination_55 Cancri e                    \n",
      "0                        0.524155  0.475845\n",
      "1                        0.390000  0.610000\n",
      "All                      0.496376  0.503624\n",
      "Transported                 False      True\n",
      "Destination_TRAPPIST-1e                    \n",
      "0                        0.427286  0.572714\n",
      "1                        0.528825  0.471175\n",
      "All                      0.496376  0.503624\n"
     ]
    }
   ],
   "source": [
    "print(pd.crosstab(data[\"Destination_PSO J318.5-22\"], data.Transported, margins=True, normalize=\"index\")) #NS\n",
    "print(pd.crosstab(data[\"Destination_55 Cancri e\"], data.Transported, margins=True, normalize=\"index\")) #S\n",
    "print(pd.crosstab(data[\"Destination_TRAPPIST-1e\"], data.Transported, margins=True, normalize=\"index\")) #S\n"
   ]
  },
  {
   "cell_type": "code",
   "execution_count": 34,
   "metadata": {},
   "outputs": [
    {
     "name": "stdout",
     "output_type": "stream",
     "text": [
      "Transported         False      True\n",
      "CryoSleep_False                    \n",
      "0                0.204364  0.795636\n",
      "1                0.671079  0.328921\n",
      "All              0.496376  0.503624\n",
      "Transported        False      True\n",
      "CryoSleep_True                    \n",
      "0               0.664958  0.335042\n",
      "1               0.182417  0.817583\n",
      "All             0.496376  0.503624\n"
     ]
    }
   ],
   "source": [
    "print(pd.crosstab(data[\"CryoSleep_False\"], data.Transported, margins=True, normalize=\"index\")) #S\n",
    "print(pd.crosstab(data[\"CryoSleep_True\"], data.Transported, margins=True, normalize=\"index\")) #S"
   ]
  },
  {
   "cell_type": "code",
   "execution_count": 31,
   "metadata": {},
   "outputs": [
    {
     "name": "stdout",
     "output_type": "stream",
     "text": [
      "                   Age\n",
      "Transported           \n",
      "False        29.862572\n",
      "True         27.733440\n",
      "             RoomService\n",
      "Transported             \n",
      "False         380.425261\n",
      "True           61.901782\n",
      "              FoodCourt\n",
      "Transported            \n",
      "False        375.167555\n",
      "True         520.646185\n",
      "             ShoppingMall\n",
      "Transported              \n",
      "False          163.915875\n",
      "True           175.147328\n",
      "                    Spa\n",
      "Transported            \n",
      "False        552.349479\n",
      "True          60.393559\n",
      "                 VRDeck\n",
      "Transported            \n",
      "False        532.291078\n",
      "True          67.600274\n",
      "                    Num\n",
      "Transported            \n",
      "False        619.107995\n",
      "True         574.016674\n"
     ]
    }
   ],
   "source": [
    "print(data[[\"Transported\", \"Age\"]].groupby('Transported').mean()) #NS\n",
    "print(data[[\"Transported\", \"RoomService\"]].groupby('Transported').mean()) #S\n",
    "print(data[[\"Transported\", \"FoodCourt\"]].groupby('Transported').mean()) #S\n",
    "print(data[[\"Transported\", \"ShoppingMall\"]].groupby('Transported').mean()) #MS\n",
    "print(data[[\"Transported\", \"Spa\"]].groupby('Transported').mean()) #S\n",
    "print(data[[\"Transported\", \"VRDeck\"]].groupby('Transported').mean()) #S\n",
    "print(data[[\"Transported\", \"Num\"]].groupby('Transported').mean()) #MS"
   ]
  },
  {
   "cell_type": "code",
   "execution_count": 42,
   "metadata": {},
   "outputs": [
    {
     "data": {
      "text/plain": [
       "0       0.0\n",
       "3       0.0\n",
       "5       0.0\n",
       "7       0.0\n",
       "8       0.0\n",
       "       ... \n",
       "8687    0.0\n",
       "8688    0.0\n",
       "8689    0.0\n",
       "8690    0.0\n",
       "8691    0.0\n",
       "Name: RoomService, Length: 5758, dtype: float64"
      ]
     },
     "execution_count": 42,
     "metadata": {},
     "output_type": "execute_result"
    }
   ],
   "source": [
    "data[data[\"RoomService\"] == 0][\"RoomService\"]"
   ]
  },
  {
   "cell_type": "code",
   "execution_count": 46,
   "metadata": {},
   "outputs": [
    {
     "name": "stdout",
     "output_type": "stream",
     "text": [
      "             RoomService\n",
      "Transported             \n",
      "False               2143\n",
      "True                3615\n",
      "             FoodCourt\n",
      "Transported           \n",
      "False             2316\n",
      "True              3323\n",
      "             ShoppingMall\n",
      "Transported              \n",
      "False                2336\n",
      "True                 3459\n",
      "              Spa\n",
      "Transported      \n",
      "False        2013\n",
      "True         3494\n",
      "             VRDeck\n",
      "Transported        \n",
      "False          2134\n",
      "True           3549\n",
      "             Num\n",
      "Transported     \n",
      "False         12\n",
      "True           6\n"
     ]
    }
   ],
   "source": [
    "tmp = data[data[\"RoomService\"] == 0][[\"RoomService\", \"Transported\"]]\n",
    "print(tmp[[\"Transported\", \"RoomService\"]].groupby('Transported').count()) #S\n",
    "\n",
    "tmp = data[data[\"FoodCourt\"] == 0][[\"FoodCourt\", \"Transported\"]]\n",
    "print(tmp[[\"Transported\", \"FoodCourt\"]].groupby('Transported').count()) #S\n",
    "\n",
    "tmp = data[data[\"ShoppingMall\"] == 0][[\"ShoppingMall\", \"Transported\"]]\n",
    "print(tmp[[\"Transported\", \"ShoppingMall\"]].groupby('Transported').count()) #S\n",
    "\n",
    "tmp = data[data[\"Spa\"] == 0][[\"Spa\", \"Transported\"]]\n",
    "print(tmp[[\"Transported\", \"Spa\"]].groupby('Transported').count()) #S\n",
    "\n",
    "tmp = data[data[\"VRDeck\"] == 0][[\"VRDeck\", \"Transported\"]]\n",
    "print(tmp[[\"Transported\", \"VRDeck\"]].groupby('Transported').count()) #S\n",
    "\n",
    "tmp = data[data[\"Num\"] == 0][[\"Num\", \"Transported\"]]\n",
    "print(tmp[[\"Transported\", \"Num\"]].groupby('Transported').count()) #S"
   ]
  },
  {
   "cell_type": "code",
   "execution_count": null,
   "metadata": {},
   "outputs": [],
   "source": []
  }
 ],
 "metadata": {
  "kernelspec": {
   "display_name": "spaceship-ZTN2T40u-py3.9",
   "language": "python",
   "name": "python3"
  },
  "language_info": {
   "codemirror_mode": {
    "name": "ipython",
    "version": 3
   },
   "file_extension": ".py",
   "mimetype": "text/x-python",
   "name": "python",
   "nbconvert_exporter": "python",
   "pygments_lexer": "ipython3",
   "version": "3.9.16"
  },
  "orig_nbformat": 4,
  "vscode": {
   "interpreter": {
    "hash": "99a68df3470af1f10226d89430ec1929aa3c75f848c2c06b61fd23d0b2bd85d5"
   }
  }
 },
 "nbformat": 4,
 "nbformat_minor": 2
}
