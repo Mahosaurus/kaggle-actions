{
 "cells": [
  {
   "cell_type": "code",
   "execution_count": 1,
   "metadata": {},
   "outputs": [],
   "source": [
    "%load_ext autoreload\n",
    "%autoreload 2"
   ]
  },
  {
   "cell_type": "code",
   "execution_count": 87,
   "metadata": {},
   "outputs": [],
   "source": [
    "import pandas as pd\n",
    "import numpy as np\n",
    "import matplotlib as mpl\n",
    "import sklearn.model_selection as sc_model_selection\n",
    "import sklearn.preprocessing as sc_preprep"
   ]
  },
  {
   "cell_type": "code",
   "execution_count": 252,
   "metadata": {},
   "outputs": [],
   "source": [
    "data = pd.read_csv(\"data/train.csv\")"
   ]
  },
  {
   "attachments": {},
   "cell_type": "markdown",
   "metadata": {},
   "source": [
    "# Data inspection"
   ]
  },
  {
   "cell_type": "code",
   "execution_count": 253,
   "metadata": {},
   "outputs": [
    {
     "data": {
      "text/plain": [
       "PassengerId       0\n",
       "HomePlanet      201\n",
       "CryoSleep       217\n",
       "Cabin           199\n",
       "Destination     182\n",
       "Age             179\n",
       "VIP             203\n",
       "RoomService     181\n",
       "FoodCourt       183\n",
       "ShoppingMall    208\n",
       "Spa             183\n",
       "VRDeck          188\n",
       "Name            200\n",
       "Transported       0\n",
       "dtype: int64"
      ]
     },
     "execution_count": 253,
     "metadata": {},
     "output_type": "execute_result"
    }
   ],
   "source": [
    "data.isnull().sum()"
   ]
  },
  {
   "attachments": {},
   "cell_type": "markdown",
   "metadata": {},
   "source": [
    "# Preprocessing"
   ]
  },
  {
   "cell_type": "code",
   "execution_count": 245,
   "metadata": {},
   "outputs": [
    {
     "name": "stderr",
     "output_type": "stream",
     "text": [
      "/tmp/ipykernel_17651/922472410.py:15: FutureWarning: In a future version of pandas all arguments of StringMethods.split except for the argument 'pat' will be keyword-only.\n",
      "  data[[\"Deck\", \"Num\", \"Side\"]] = data[\"Cabin\"].str.split('/', 3, expand=True)\n"
     ]
    }
   ],
   "source": [
    "## TODO: As Pipeline\n",
    "# Impute seemingly metric vars\n",
    "data[\"Age\"] = data[\"Age\"].fillna(data[\"Age\"].median())\n",
    "data[\"RoomService\"] = data[\"RoomService\"].fillna(data[\"RoomService\"].median()) #TODO: Use mode without NA\n",
    "data[\"FoodCourt\"] = data[\"FoodCourt\"].fillna(data[\"FoodCourt\"].median()) #TODO: Use mode without NA\n",
    "data[\"ShoppingMall\"] = data[\"ShoppingMall\"].fillna(data[\"ShoppingMall\"].median()) #TODO: Use mode without NA\n",
    "data[\"Spa\"] = data[\"Spa\"].fillna(data[\"Spa\"].median()) #TODO: Use mode without NA\n",
    "data[\"VRDeck\"] = data[\"VRDeck\"].fillna(data[\"VRDeck\"].median()) #TODO: Use mode without NA\n",
    "# One hot encode HomePlanet\n",
    "data = pd.get_dummies(data, prefix=['HomePlanet'], columns = ['HomePlanet'], drop_first=False)\n",
    "# One hot encode VIP\n",
    "data = pd.get_dummies(data, prefix=['VIP'], columns = ['VIP'], drop_first=False)\n",
    "# One hot encode Destination\n",
    "data = pd.get_dummies(data, prefix=['Destination'], columns = ['Destination'], drop_first=False)\n",
    "## One hot encode Cabin\n",
    "data[[\"Deck\", \"Num\", \"Side\"]] = data[\"Cabin\"].str.split('/', 3, expand=True)\n",
    "data[\"Num\"] = data[\"Num\"].fillna(data[\"Num\"].median()) #TODO: Use mode without NA\n",
    "data = pd.get_dummies(data, prefix=['Deck'], columns = ['Deck'], drop_first=False)\n",
    "data = pd.get_dummies(data, prefix=['Side'], columns = ['Side'], drop_first=False)\n",
    "# One hot encode CryoSleep\n",
    "data = pd.get_dummies(data, prefix=['CryoSleep'], columns = ['CryoSleep'], drop_first=False)"
   ]
  },
  {
   "attachments": {},
   "cell_type": "markdown",
   "metadata": {},
   "source": [
    "# Training"
   ]
  },
  {
   "cell_type": "code",
   "execution_count": 246,
   "metadata": {},
   "outputs": [],
   "source": [
    "X = data.loc[:, data.columns != 'Transported']\n",
    "Y = data['Transported']\n",
    "X_train, X_test = sc_model_selection.train_test_split(X)\n",
    "Y_train, Y_test = sc_model_selection.train_test_split(Y)"
   ]
  },
  {
   "attachments": {},
   "cell_type": "markdown",
   "metadata": {},
   "source": [
    "# Definitions"
   ]
  },
  {
   "cell_type": "code",
   "execution_count": 247,
   "metadata": {},
   "outputs": [
    {
     "data": {
      "text/plain": [
       "PassengerId                    0\n",
       "Cabin                        199\n",
       "Age                            0\n",
       "RoomService                    0\n",
       "FoodCourt                      0\n",
       "ShoppingMall                   0\n",
       "Spa                            0\n",
       "VRDeck                         0\n",
       "Name                         200\n",
       "Transported                    0\n",
       "HomePlanet_Earth               0\n",
       "HomePlanet_Europa              0\n",
       "HomePlanet_Mars                0\n",
       "VIP_False                      0\n",
       "VIP_True                       0\n",
       "Destination_55 Cancri e        0\n",
       "Destination_PSO J318.5-22      0\n",
       "Destination_TRAPPIST-1e        0\n",
       "Num                            0\n",
       "Deck_A                         0\n",
       "Deck_B                         0\n",
       "Deck_C                         0\n",
       "Deck_D                         0\n",
       "Deck_E                         0\n",
       "Deck_F                         0\n",
       "Deck_G                         0\n",
       "Deck_T                         0\n",
       "Side_P                         0\n",
       "Side_S                         0\n",
       "CryoSleep_False                0\n",
       "CryoSleep_True                 0\n",
       "dtype: int64"
      ]
     },
     "execution_count": 247,
     "metadata": {},
     "output_type": "execute_result"
    }
   ],
   "source": [
    "data.isnull().sum()"
   ]
  },
  {
   "cell_type": "code",
   "execution_count": 248,
   "metadata": {},
   "outputs": [
    {
     "data": {
      "text/plain": [
       "array(['PassengerId', 'Cabin', 'Age', 'RoomService', 'FoodCourt',\n",
       "       'ShoppingMall', 'Spa', 'VRDeck', 'Name', 'Transported',\n",
       "       'HomePlanet_Earth', 'HomePlanet_Europa', 'HomePlanet_Mars',\n",
       "       'VIP_False', 'VIP_True', 'Destination_55 Cancri e',\n",
       "       'Destination_PSO J318.5-22', 'Destination_TRAPPIST-1e', 'Num',\n",
       "       'Deck_A', 'Deck_B', 'Deck_C', 'Deck_D', 'Deck_E', 'Deck_F',\n",
       "       'Deck_G', 'Deck_T', 'Side_P', 'Side_S', 'CryoSleep_False',\n",
       "       'CryoSleep_True'], dtype=object)"
      ]
     },
     "execution_count": 248,
     "metadata": {},
     "output_type": "execute_result"
    }
   ],
   "source": [
    "data.columns.values[0:1000]"
   ]
  },
  {
   "cell_type": "code",
   "execution_count": 249,
   "metadata": {},
   "outputs": [],
   "source": [
    "COLUMNS = [\n",
    "    ## Metric\n",
    "    \"Age\",\n",
    "    \"RoomService\",\n",
    "    \"FoodCourt\",\n",
    "    \"ShoppingMall\",\n",
    "    \"Spa\",\n",
    "    \"VRDeck\",\n",
    "    \"Num\",\n",
    "    ## HomePlanet\n",
    "    \"HomePlanet_Earth\",\n",
    "    \"HomePlanet_Europa\",\n",
    "    \"HomePlanet_Mars\",\n",
    "    ## VIP\n",
    "    \"VIP_True\",\n",
    "    \"VIP_False\",\n",
    "    ## Dest\n",
    "    \"Destination_55 Cancri e\",\n",
    "    \"Destination_PSO J318.5-22\",\n",
    "    \"Destination_TRAPPIST-1e\",\n",
    "    ## Cryo\n",
    "    \"CryoSleep_False\",\n",
    "    \"CryoSleep_True\",\n",
    "    ## Deck\n",
    "    \"Deck_A\",\n",
    "    \"Deck_B\",\n",
    "    \"Deck_C\",\n",
    "    \"Deck_D\",\n",
    "    \"Deck_E\",\n",
    "    \"Deck_F\",\n",
    "    \"Deck_G\",\n",
    "    \"Deck_T\",\n",
    "    ## Side\n",
    "    \"Side_P\",\n",
    "    \"Side_S\",\n",
    "]\n"
   ]
  },
  {
   "attachments": {},
   "cell_type": "markdown",
   "metadata": {},
   "source": [
    "## Models"
   ]
  },
  {
   "cell_type": "code",
   "execution_count": 250,
   "metadata": {},
   "outputs": [],
   "source": [
    "from models.baseline_regression import get_baseline_regression_model\n",
    "model = get_baseline_regression_model(X_train, Y_train, COLUMNS)"
   ]
  },
  {
   "attachments": {},
   "cell_type": "markdown",
   "metadata": {},
   "source": [
    "# Evaluation"
   ]
  },
  {
   "cell_type": "code",
   "execution_count": 251,
   "metadata": {},
   "outputs": [
    {
     "data": {
      "text/plain": [
       "0.4871205151793928"
      ]
     },
     "execution_count": 251,
     "metadata": {},
     "output_type": "execute_result"
    }
   ],
   "source": [
    "from sklearn.metrics import accuracy_score\n",
    "prediction = model.predict(X_test[COLUMNS])\n",
    "accuracy_score(prediction, Y_test)"
   ]
  },
  {
   "attachments": {},
   "cell_type": "markdown",
   "metadata": {},
   "source": [
    "# Prediction"
   ]
  },
  {
   "cell_type": "code",
   "execution_count": 254,
   "metadata": {},
   "outputs": [
    {
     "ename": "KeyError",
     "evalue": "\"['Num', 'VIP_True', 'VIP_False', 'Destination_55 Cancri e', 'Destination_PSO J318.5-22', 'Destination_TRAPPIST-1e', 'CryoSleep_False', 'CryoSleep_True', 'Deck_A', 'Deck_B', 'Deck_C', 'Deck_D', 'Deck_E', 'Deck_F', 'Deck_G', 'Deck_T', 'Side_P', 'Side_S'] not in index\"",
     "output_type": "error",
     "traceback": [
      "\u001b[0;31m---------------------------------------------------------------------------\u001b[0m",
      "\u001b[0;31mKeyError\u001b[0m                                  Traceback (most recent call last)",
      "Cell \u001b[0;32mIn[254], line 7\u001b[0m\n\u001b[1;32m      5\u001b[0m data_predict \u001b[39m=\u001b[39m pd\u001b[39m.\u001b[39mget_dummies(data_predict, prefix\u001b[39m=\u001b[39m[\u001b[39m'\u001b[39m\u001b[39mHomePlanet\u001b[39m\u001b[39m'\u001b[39m], columns \u001b[39m=\u001b[39m [\u001b[39m'\u001b[39m\u001b[39mHomePlanet\u001b[39m\u001b[39m'\u001b[39m], drop_first\u001b[39m=\u001b[39m\u001b[39mFalse\u001b[39;00m)\n\u001b[1;32m      6\u001b[0m \u001b[39m# Get features\u001b[39;00m\n\u001b[0;32m----> 7\u001b[0m predictor \u001b[39m=\u001b[39m data_predict[COLUMNS]\n\u001b[1;32m      8\u001b[0m \u001b[39m# Predict\u001b[39;00m\n\u001b[1;32m      9\u001b[0m PassengerId \u001b[39m=\u001b[39m data_predict[\u001b[39m\"\u001b[39m\u001b[39mPassengerId\u001b[39m\u001b[39m\"\u001b[39m]\n",
      "File \u001b[0;32m~/Schreibtisch/Code/kaggle/venv/lib/python3.8/site-packages/pandas/core/frame.py:3813\u001b[0m, in \u001b[0;36mDataFrame.__getitem__\u001b[0;34m(self, key)\u001b[0m\n\u001b[1;32m   3811\u001b[0m     \u001b[39mif\u001b[39;00m is_iterator(key):\n\u001b[1;32m   3812\u001b[0m         key \u001b[39m=\u001b[39m \u001b[39mlist\u001b[39m(key)\n\u001b[0;32m-> 3813\u001b[0m     indexer \u001b[39m=\u001b[39m \u001b[39mself\u001b[39;49m\u001b[39m.\u001b[39;49mcolumns\u001b[39m.\u001b[39;49m_get_indexer_strict(key, \u001b[39m\"\u001b[39;49m\u001b[39mcolumns\u001b[39;49m\u001b[39m\"\u001b[39;49m)[\u001b[39m1\u001b[39m]\n\u001b[1;32m   3815\u001b[0m \u001b[39m# take() does not accept boolean indexers\u001b[39;00m\n\u001b[1;32m   3816\u001b[0m \u001b[39mif\u001b[39;00m \u001b[39mgetattr\u001b[39m(indexer, \u001b[39m\"\u001b[39m\u001b[39mdtype\u001b[39m\u001b[39m\"\u001b[39m, \u001b[39mNone\u001b[39;00m) \u001b[39m==\u001b[39m \u001b[39mbool\u001b[39m:\n",
      "File \u001b[0;32m~/Schreibtisch/Code/kaggle/venv/lib/python3.8/site-packages/pandas/core/indexes/base.py:6070\u001b[0m, in \u001b[0;36mIndex._get_indexer_strict\u001b[0;34m(self, key, axis_name)\u001b[0m\n\u001b[1;32m   6067\u001b[0m \u001b[39melse\u001b[39;00m:\n\u001b[1;32m   6068\u001b[0m     keyarr, indexer, new_indexer \u001b[39m=\u001b[39m \u001b[39mself\u001b[39m\u001b[39m.\u001b[39m_reindex_non_unique(keyarr)\n\u001b[0;32m-> 6070\u001b[0m \u001b[39mself\u001b[39;49m\u001b[39m.\u001b[39;49m_raise_if_missing(keyarr, indexer, axis_name)\n\u001b[1;32m   6072\u001b[0m keyarr \u001b[39m=\u001b[39m \u001b[39mself\u001b[39m\u001b[39m.\u001b[39mtake(indexer)\n\u001b[1;32m   6073\u001b[0m \u001b[39mif\u001b[39;00m \u001b[39misinstance\u001b[39m(key, Index):\n\u001b[1;32m   6074\u001b[0m     \u001b[39m# GH 42790 - Preserve name from an Index\u001b[39;00m\n",
      "File \u001b[0;32m~/Schreibtisch/Code/kaggle/venv/lib/python3.8/site-packages/pandas/core/indexes/base.py:6133\u001b[0m, in \u001b[0;36mIndex._raise_if_missing\u001b[0;34m(self, key, indexer, axis_name)\u001b[0m\n\u001b[1;32m   6130\u001b[0m     \u001b[39mraise\u001b[39;00m \u001b[39mKeyError\u001b[39;00m(\u001b[39mf\u001b[39m\u001b[39m\"\u001b[39m\u001b[39mNone of [\u001b[39m\u001b[39m{\u001b[39;00mkey\u001b[39m}\u001b[39;00m\u001b[39m] are in the [\u001b[39m\u001b[39m{\u001b[39;00maxis_name\u001b[39m}\u001b[39;00m\u001b[39m]\u001b[39m\u001b[39m\"\u001b[39m)\n\u001b[1;32m   6132\u001b[0m not_found \u001b[39m=\u001b[39m \u001b[39mlist\u001b[39m(ensure_index(key)[missing_mask\u001b[39m.\u001b[39mnonzero()[\u001b[39m0\u001b[39m]]\u001b[39m.\u001b[39munique())\n\u001b[0;32m-> 6133\u001b[0m \u001b[39mraise\u001b[39;00m \u001b[39mKeyError\u001b[39;00m(\u001b[39mf\u001b[39m\u001b[39m\"\u001b[39m\u001b[39m{\u001b[39;00mnot_found\u001b[39m}\u001b[39;00m\u001b[39m not in index\u001b[39m\u001b[39m\"\u001b[39m)\n",
      "\u001b[0;31mKeyError\u001b[0m: \"['Num', 'VIP_True', 'VIP_False', 'Destination_55 Cancri e', 'Destination_PSO J318.5-22', 'Destination_TRAPPIST-1e', 'CryoSleep_False', 'CryoSleep_True', 'Deck_A', 'Deck_B', 'Deck_C', 'Deck_D', 'Deck_E', 'Deck_F', 'Deck_G', 'Deck_T', 'Side_P', 'Side_S'] not in index\""
     ]
    }
   ],
   "source": [
    "data_predict = pd.read_csv(\"data/test.csv\")\n",
    "# Impute age\n",
    "data_predict[\"Age\"] = data_predict[\"Age\"].fillna(data_predict[\"Age\"].median())\n",
    "# One Hot Encode Home-Planet\n",
    "data_predict = pd.get_dummies(data_predict, prefix=['HomePlanet'], columns = ['HomePlanet'], drop_first=False)\n",
    "# Get features\n",
    "predictor = data_predict[COLUMNS]\n",
    "# Predict\n",
    "PassengerId = data_predict[\"PassengerId\"]\n",
    "Prediction = model.predict(predictor)"
   ]
  },
  {
   "cell_type": "code",
   "execution_count": 109,
   "metadata": {},
   "outputs": [],
   "source": [
    "pd.DataFrame(Prediction, index=PassengerId, columns=[\"Transported\"]).to_csv(\"my_submission.csv\")"
   ]
  },
  {
   "cell_type": "code",
   "execution_count": null,
   "metadata": {},
   "outputs": [],
   "source": []
  }
 ],
 "metadata": {
  "kernelspec": {
   "display_name": "venv",
   "language": "python",
   "name": "python3"
  },
  "language_info": {
   "codemirror_mode": {
    "name": "ipython",
    "version": 3
   },
   "file_extension": ".py",
   "mimetype": "text/x-python",
   "name": "python",
   "nbconvert_exporter": "python",
   "pygments_lexer": "ipython3",
   "version": "3.8.10"
  },
  "orig_nbformat": 4,
  "vscode": {
   "interpreter": {
    "hash": "d7b233068c1744d1c08e522e5fb4a0bdeca533512ba05abd6e6346eaa6a6adb7"
   }
  }
 },
 "nbformat": 4,
 "nbformat_minor": 2
}
